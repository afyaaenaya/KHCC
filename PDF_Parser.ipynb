{
  "nbformat": 4,
  "nbformat_minor": 0,
  "metadata": {
    "colab": {
      "provenance": [],
      "authorship_tag": "ABX9TyN0xQuk+LFmvvKSlLPfd+Zx",
      "include_colab_link": true
    },
    "kernelspec": {
      "name": "python3",
      "display_name": "Python 3"
    },
    "language_info": {
      "name": "python"
    }
  },
  "cells": [
    {
      "cell_type": "markdown",
      "metadata": {
        "id": "view-in-github",
        "colab_type": "text"
      },
      "source": [
        "<a href=\"https://colab.research.google.com/github/afyaaenaya/KHCC/blob/main/PDF_Parser.ipynb\" target=\"_parent\"><img src=\"https://colab.research.google.com/assets/colab-badge.svg\" alt=\"Open In Colab\"/></a>"
      ]
    },
    {
      "cell_type": "code",
      "source": [
        "pip install llama-index-core llama-parse llama-index-readers-file llama-index-vector-stores-lancedb llama-index-llms-openai llama-index-embeddings-openai"
      ],
      "metadata": {
        "colab": {
          "base_uri": "https://localhost:8080/"
        },
        "id": "DxBWPGJUkWVi",
        "outputId": "e16ef031-6710-49fe-e9b6-3697866d1511",
        "collapsed": true
      },
      "execution_count": 1,
      "outputs": [
        {
          "output_type": "stream",
          "name": "stdout",
          "text": [
            "Collecting llama-index-core\n",
            "  Downloading llama_index_core-0.10.62-py3-none-any.whl.metadata (2.4 kB)\n",
            "Collecting llama-parse\n",
            "  Downloading llama_parse-0.4.9-py3-none-any.whl.metadata (4.4 kB)\n",
            "Collecting llama-index-readers-file\n",
            "  Downloading llama_index_readers_file-0.1.32-py3-none-any.whl.metadata (5.4 kB)\n",
            "Collecting llama-index-vector-stores-lancedb\n",
            "  Downloading llama_index_vector_stores_lancedb-0.1.7-py3-none-any.whl.metadata (720 bytes)\n",
            "Collecting llama-index-llms-openai\n",
            "  Downloading llama_index_llms_openai-0.1.28-py3-none-any.whl.metadata (650 bytes)\n",
            "Collecting llama-index-embeddings-openai\n",
            "  Downloading llama_index_embeddings_openai-0.1.11-py3-none-any.whl.metadata (655 bytes)\n",
            "Requirement already satisfied: PyYAML>=6.0.1 in /usr/local/lib/python3.10/dist-packages (from llama-index-core) (6.0.1)\n",
            "Requirement already satisfied: SQLAlchemy>=1.4.49 in /usr/local/lib/python3.10/dist-packages (from SQLAlchemy[asyncio]>=1.4.49->llama-index-core) (2.0.31)\n",
            "Requirement already satisfied: aiohttp<4.0.0,>=3.8.6 in /usr/local/lib/python3.10/dist-packages (from llama-index-core) (3.10.0)\n",
            "Collecting dataclasses-json (from llama-index-core)\n",
            "  Downloading dataclasses_json-0.6.7-py3-none-any.whl.metadata (25 kB)\n",
            "Collecting deprecated>=1.2.9.3 (from llama-index-core)\n",
            "  Downloading Deprecated-1.2.14-py2.py3-none-any.whl.metadata (5.4 kB)\n",
            "Collecting dirtyjson<2.0.0,>=1.0.8 (from llama-index-core)\n",
            "  Downloading dirtyjson-1.0.8-py3-none-any.whl.metadata (11 kB)\n",
            "Requirement already satisfied: fsspec>=2023.5.0 in /usr/local/lib/python3.10/dist-packages (from llama-index-core) (2024.6.1)\n",
            "Collecting httpx (from llama-index-core)\n",
            "  Downloading httpx-0.27.0-py3-none-any.whl.metadata (7.2 kB)\n",
            "Requirement already satisfied: nest-asyncio<2.0.0,>=1.5.8 in /usr/local/lib/python3.10/dist-packages (from llama-index-core) (1.6.0)\n",
            "Requirement already satisfied: networkx>=3.0 in /usr/local/lib/python3.10/dist-packages (from llama-index-core) (3.3)\n",
            "Requirement already satisfied: nltk<4.0.0,>=3.8.1 in /usr/local/lib/python3.10/dist-packages (from llama-index-core) (3.8.1)\n",
            "Requirement already satisfied: numpy<2.0.0 in /usr/local/lib/python3.10/dist-packages (from llama-index-core) (1.26.4)\n",
            "Collecting openai>=1.1.0 (from llama-index-core)\n",
            "  Downloading openai-1.40.0-py3-none-any.whl.metadata (22 kB)\n",
            "Requirement already satisfied: pandas in /usr/local/lib/python3.10/dist-packages (from llama-index-core) (2.1.4)\n",
            "Requirement already satisfied: pillow>=9.0.0 in /usr/local/lib/python3.10/dist-packages (from llama-index-core) (9.4.0)\n",
            "Requirement already satisfied: requests>=2.31.0 in /usr/local/lib/python3.10/dist-packages (from llama-index-core) (2.31.0)\n",
            "Collecting tenacity!=8.4.0,<9.0.0,>=8.2.0 (from llama-index-core)\n",
            "  Downloading tenacity-8.5.0-py3-none-any.whl.metadata (1.2 kB)\n",
            "Collecting tiktoken>=0.3.3 (from llama-index-core)\n",
            "  Downloading tiktoken-0.7.0-cp310-cp310-manylinux_2_17_x86_64.manylinux2014_x86_64.whl.metadata (6.6 kB)\n",
            "Requirement already satisfied: tqdm<5.0.0,>=4.66.1 in /usr/local/lib/python3.10/dist-packages (from llama-index-core) (4.66.4)\n",
            "Requirement already satisfied: typing-extensions>=4.5.0 in /usr/local/lib/python3.10/dist-packages (from llama-index-core) (4.12.2)\n",
            "Collecting typing-inspect>=0.8.0 (from llama-index-core)\n",
            "  Downloading typing_inspect-0.9.0-py3-none-any.whl.metadata (1.5 kB)\n",
            "Requirement already satisfied: wrapt in /usr/local/lib/python3.10/dist-packages (from llama-index-core) (1.16.0)\n",
            "Requirement already satisfied: beautifulsoup4<5.0.0,>=4.12.3 in /usr/local/lib/python3.10/dist-packages (from llama-index-readers-file) (4.12.3)\n",
            "Collecting pypdf<5.0.0,>=4.0.1 (from llama-index-readers-file)\n",
            "  Downloading pypdf-4.3.1-py3-none-any.whl.metadata (7.4 kB)\n",
            "Collecting striprtf<0.0.27,>=0.0.26 (from llama-index-readers-file)\n",
            "  Downloading striprtf-0.0.26-py3-none-any.whl.metadata (2.1 kB)\n",
            "Collecting lancedb>=0.8.0 (from llama-index-vector-stores-lancedb)\n",
            "  Downloading lancedb-0.11.0-cp38-abi3-manylinux_2_28_x86_64.whl.metadata (4.8 kB)\n",
            "Collecting tantivy (from llama-index-vector-stores-lancedb)\n",
            "  Downloading tantivy-0.22.0-cp310-cp310-manylinux_2_17_x86_64.manylinux2014_x86_64.whl.metadata (1.2 kB)\n",
            "Requirement already satisfied: aiohappyeyeballs>=2.3.0 in /usr/local/lib/python3.10/dist-packages (from aiohttp<4.0.0,>=3.8.6->llama-index-core) (2.3.4)\n",
            "Requirement already satisfied: aiosignal>=1.1.2 in /usr/local/lib/python3.10/dist-packages (from aiohttp<4.0.0,>=3.8.6->llama-index-core) (1.3.1)\n",
            "Requirement already satisfied: attrs>=17.3.0 in /usr/local/lib/python3.10/dist-packages (from aiohttp<4.0.0,>=3.8.6->llama-index-core) (23.2.0)\n",
            "Requirement already satisfied: frozenlist>=1.1.1 in /usr/local/lib/python3.10/dist-packages (from aiohttp<4.0.0,>=3.8.6->llama-index-core) (1.4.1)\n",
            "Requirement already satisfied: multidict<7.0,>=4.5 in /usr/local/lib/python3.10/dist-packages (from aiohttp<4.0.0,>=3.8.6->llama-index-core) (6.0.5)\n",
            "Requirement already satisfied: yarl<2.0,>=1.0 in /usr/local/lib/python3.10/dist-packages (from aiohttp<4.0.0,>=3.8.6->llama-index-core) (1.9.4)\n",
            "Requirement already satisfied: async-timeout<5.0,>=4.0 in /usr/local/lib/python3.10/dist-packages (from aiohttp<4.0.0,>=3.8.6->llama-index-core) (4.0.3)\n",
            "Requirement already satisfied: soupsieve>1.2 in /usr/local/lib/python3.10/dist-packages (from beautifulsoup4<5.0.0,>=4.12.3->llama-index-readers-file) (2.5)\n",
            "Collecting deprecation (from lancedb>=0.8.0->llama-index-vector-stores-lancedb)\n",
            "  Downloading deprecation-2.1.0-py2.py3-none-any.whl.metadata (4.6 kB)\n",
            "Collecting pylance==0.15.0 (from lancedb>=0.8.0->llama-index-vector-stores-lancedb)\n",
            "  Downloading pylance-0.15.0-cp39-abi3-manylinux_2_28_x86_64.whl.metadata (7.2 kB)\n",
            "Collecting ratelimiter~=1.0 (from lancedb>=0.8.0->llama-index-vector-stores-lancedb)\n",
            "  Downloading ratelimiter-1.2.0.post0-py3-none-any.whl.metadata (4.0 kB)\n",
            "Collecting retry>=0.9.2 (from lancedb>=0.8.0->llama-index-vector-stores-lancedb)\n",
            "  Downloading retry-0.9.2-py2.py3-none-any.whl.metadata (5.8 kB)\n",
            "Requirement already satisfied: pydantic>=1.10 in /usr/local/lib/python3.10/dist-packages (from lancedb>=0.8.0->llama-index-vector-stores-lancedb) (2.8.2)\n",
            "Requirement already satisfied: packaging in /usr/local/lib/python3.10/dist-packages (from lancedb>=0.8.0->llama-index-vector-stores-lancedb) (24.1)\n",
            "Requirement already satisfied: cachetools in /usr/local/lib/python3.10/dist-packages (from lancedb>=0.8.0->llama-index-vector-stores-lancedb) (5.4.0)\n",
            "Collecting overrides>=0.7 (from lancedb>=0.8.0->llama-index-vector-stores-lancedb)\n",
            "  Downloading overrides-7.7.0-py3-none-any.whl.metadata (5.8 kB)\n",
            "Requirement already satisfied: pyarrow>=12 in /usr/local/lib/python3.10/dist-packages (from pylance==0.15.0->lancedb>=0.8.0->llama-index-vector-stores-lancedb) (14.0.2)\n",
            "Requirement already satisfied: click in /usr/local/lib/python3.10/dist-packages (from nltk<4.0.0,>=3.8.1->llama-index-core) (8.1.7)\n",
            "Requirement already satisfied: joblib in /usr/local/lib/python3.10/dist-packages (from nltk<4.0.0,>=3.8.1->llama-index-core) (1.4.2)\n",
            "Requirement already satisfied: regex>=2021.8.3 in /usr/local/lib/python3.10/dist-packages (from nltk<4.0.0,>=3.8.1->llama-index-core) (2024.5.15)\n",
            "Requirement already satisfied: anyio<5,>=3.5.0 in /usr/local/lib/python3.10/dist-packages (from openai>=1.1.0->llama-index-core) (3.7.1)\n",
            "Requirement already satisfied: distro<2,>=1.7.0 in /usr/lib/python3/dist-packages (from openai>=1.1.0->llama-index-core) (1.7.0)\n",
            "Collecting jiter<1,>=0.4.0 (from openai>=1.1.0->llama-index-core)\n",
            "  Downloading jiter-0.5.0-cp310-cp310-manylinux_2_17_x86_64.manylinux2014_x86_64.whl.metadata (3.6 kB)\n",
            "Requirement already satisfied: sniffio in /usr/local/lib/python3.10/dist-packages (from openai>=1.1.0->llama-index-core) (1.3.1)\n",
            "Requirement already satisfied: certifi in /usr/local/lib/python3.10/dist-packages (from httpx->llama-index-core) (2024.7.4)\n",
            "Collecting httpcore==1.* (from httpx->llama-index-core)\n",
            "  Downloading httpcore-1.0.5-py3-none-any.whl.metadata (20 kB)\n",
            "Requirement already satisfied: idna in /usr/local/lib/python3.10/dist-packages (from httpx->llama-index-core) (3.7)\n",
            "Collecting h11<0.15,>=0.13 (from httpcore==1.*->httpx->llama-index-core)\n",
            "  Downloading h11-0.14.0-py3-none-any.whl.metadata (8.2 kB)\n",
            "Requirement already satisfied: charset-normalizer<4,>=2 in /usr/local/lib/python3.10/dist-packages (from requests>=2.31.0->llama-index-core) (3.3.2)\n",
            "Requirement already satisfied: urllib3<3,>=1.21.1 in /usr/local/lib/python3.10/dist-packages (from requests>=2.31.0->llama-index-core) (2.0.7)\n",
            "Requirement already satisfied: greenlet!=0.4.17 in /usr/local/lib/python3.10/dist-packages (from SQLAlchemy>=1.4.49->SQLAlchemy[asyncio]>=1.4.49->llama-index-core) (3.0.3)\n",
            "Collecting mypy-extensions>=0.3.0 (from typing-inspect>=0.8.0->llama-index-core)\n",
            "  Downloading mypy_extensions-1.0.0-py3-none-any.whl.metadata (1.1 kB)\n",
            "Collecting marshmallow<4.0.0,>=3.18.0 (from dataclasses-json->llama-index-core)\n",
            "  Downloading marshmallow-3.21.3-py3-none-any.whl.metadata (7.1 kB)\n",
            "Requirement already satisfied: python-dateutil>=2.8.2 in /usr/local/lib/python3.10/dist-packages (from pandas->llama-index-core) (2.8.2)\n",
            "Requirement already satisfied: pytz>=2020.1 in /usr/local/lib/python3.10/dist-packages (from pandas->llama-index-core) (2024.1)\n",
            "Requirement already satisfied: tzdata>=2022.1 in /usr/local/lib/python3.10/dist-packages (from pandas->llama-index-core) (2024.1)\n",
            "Requirement already satisfied: exceptiongroup in /usr/local/lib/python3.10/dist-packages (from anyio<5,>=3.5.0->openai>=1.1.0->llama-index-core) (1.2.2)\n",
            "Requirement already satisfied: annotated-types>=0.4.0 in /usr/local/lib/python3.10/dist-packages (from pydantic>=1.10->lancedb>=0.8.0->llama-index-vector-stores-lancedb) (0.7.0)\n",
            "Requirement already satisfied: pydantic-core==2.20.1 in /usr/local/lib/python3.10/dist-packages (from pydantic>=1.10->lancedb>=0.8.0->llama-index-vector-stores-lancedb) (2.20.1)\n",
            "Requirement already satisfied: six>=1.5 in /usr/local/lib/python3.10/dist-packages (from python-dateutil>=2.8.2->pandas->llama-index-core) (1.16.0)\n",
            "Requirement already satisfied: decorator>=3.4.2 in /usr/local/lib/python3.10/dist-packages (from retry>=0.9.2->lancedb>=0.8.0->llama-index-vector-stores-lancedb) (4.4.2)\n",
            "Collecting py<2.0.0,>=1.4.26 (from retry>=0.9.2->lancedb>=0.8.0->llama-index-vector-stores-lancedb)\n",
            "  Downloading py-1.11.0-py2.py3-none-any.whl.metadata (2.8 kB)\n",
            "Downloading llama_index_core-0.10.62-py3-none-any.whl (15.5 MB)\n",
            "\u001b[2K   \u001b[90m━━━━━━━━━━━━━━━━━━━━━━━━━━━━━━━━━━━━━━━━\u001b[0m \u001b[32m15.5/15.5 MB\u001b[0m \u001b[31m27.2 MB/s\u001b[0m eta \u001b[36m0:00:00\u001b[0m\n",
            "\u001b[?25hDownloading llama_parse-0.4.9-py3-none-any.whl (9.4 kB)\n",
            "Downloading llama_index_readers_file-0.1.32-py3-none-any.whl (38 kB)\n",
            "Downloading llama_index_vector_stores_lancedb-0.1.7-py3-none-any.whl (6.6 kB)\n",
            "Downloading llama_index_llms_openai-0.1.28-py3-none-any.whl (11 kB)\n",
            "Downloading llama_index_embeddings_openai-0.1.11-py3-none-any.whl (6.3 kB)\n",
            "Downloading Deprecated-1.2.14-py2.py3-none-any.whl (9.6 kB)\n",
            "Downloading dirtyjson-1.0.8-py3-none-any.whl (25 kB)\n",
            "Downloading lancedb-0.11.0-cp38-abi3-manylinux_2_28_x86_64.whl (23.1 MB)\n",
            "\u001b[2K   \u001b[90m━━━━━━━━━━━━━━━━━━━━━━━━━━━━━━━━━━━━━━━━\u001b[0m \u001b[32m23.1/23.1 MB\u001b[0m \u001b[31m17.0 MB/s\u001b[0m eta \u001b[36m0:00:00\u001b[0m\n",
            "\u001b[?25hDownloading pylance-0.15.0-cp39-abi3-manylinux_2_28_x86_64.whl (28.0 MB)\n",
            "\u001b[2K   \u001b[90m━━━━━━━━━━━━━━━━━━━━━━━━━━━━━━━━━━━━━━━━\u001b[0m \u001b[32m28.0/28.0 MB\u001b[0m \u001b[31m22.5 MB/s\u001b[0m eta \u001b[36m0:00:00\u001b[0m\n",
            "\u001b[?25hDownloading openai-1.40.0-py3-none-any.whl (360 kB)\n",
            "\u001b[2K   \u001b[90m━━━━━━━━━━━━━━━━━━━━━━━━━━━━━━━━━━━━━━━━\u001b[0m \u001b[32m360.4/360.4 kB\u001b[0m \u001b[31m5.7 MB/s\u001b[0m eta \u001b[36m0:00:00\u001b[0m\n",
            "\u001b[?25hDownloading httpx-0.27.0-py3-none-any.whl (75 kB)\n",
            "\u001b[2K   \u001b[90m━━━━━━━━━━━━━━━━━━━━━━━━━━━━━━━━━━━━━━━━\u001b[0m \u001b[32m75.6/75.6 kB\u001b[0m \u001b[31m2.3 MB/s\u001b[0m eta \u001b[36m0:00:00\u001b[0m\n",
            "\u001b[?25hDownloading httpcore-1.0.5-py3-none-any.whl (77 kB)\n",
            "\u001b[2K   \u001b[90m━━━━━━━━━━━━━━━━━━━━━━━━━━━━━━━━━━━━━━━━\u001b[0m \u001b[32m77.9/77.9 kB\u001b[0m \u001b[31m4.3 MB/s\u001b[0m eta \u001b[36m0:00:00\u001b[0m\n",
            "\u001b[?25hDownloading pypdf-4.3.1-py3-none-any.whl (295 kB)\n",
            "\u001b[2K   \u001b[90m━━━━━━━━━━━━━━━━━━━━━━━━━━━━━━━━━━━━━━━━\u001b[0m \u001b[32m295.8/295.8 kB\u001b[0m \u001b[31m11.2 MB/s\u001b[0m eta \u001b[36m0:00:00\u001b[0m\n",
            "\u001b[?25hDownloading striprtf-0.0.26-py3-none-any.whl (6.9 kB)\n",
            "Downloading tenacity-8.5.0-py3-none-any.whl (28 kB)\n",
            "Downloading tiktoken-0.7.0-cp310-cp310-manylinux_2_17_x86_64.manylinux2014_x86_64.whl (1.1 MB)\n",
            "\u001b[2K   \u001b[90m━━━━━━━━━━━━━━━━━━━━━━━━━━━━━━━━━━━━━━━━\u001b[0m \u001b[32m1.1/1.1 MB\u001b[0m \u001b[31m21.7 MB/s\u001b[0m eta \u001b[36m0:00:00\u001b[0m\n",
            "\u001b[?25hDownloading typing_inspect-0.9.0-py3-none-any.whl (8.8 kB)\n",
            "Downloading dataclasses_json-0.6.7-py3-none-any.whl (28 kB)\n",
            "Downloading tantivy-0.22.0-cp310-cp310-manylinux_2_17_x86_64.manylinux2014_x86_64.whl (4.5 MB)\n",
            "\u001b[2K   \u001b[90m━━━━━━━━━━━━━━━━━━━━━━━━━━━━━━━━━━━━━━━━\u001b[0m \u001b[32m4.5/4.5 MB\u001b[0m \u001b[31m24.2 MB/s\u001b[0m eta \u001b[36m0:00:00\u001b[0m\n",
            "\u001b[?25hDownloading jiter-0.5.0-cp310-cp310-manylinux_2_17_x86_64.manylinux2014_x86_64.whl (318 kB)\n",
            "\u001b[2K   \u001b[90m━━━━━━━━━━━━━━━━━━━━━━━━━━━━━━━━━━━━━━━━\u001b[0m \u001b[32m318.9/318.9 kB\u001b[0m \u001b[31m18.3 MB/s\u001b[0m eta \u001b[36m0:00:00\u001b[0m\n",
            "\u001b[?25hDownloading marshmallow-3.21.3-py3-none-any.whl (49 kB)\n",
            "\u001b[2K   \u001b[90m━━━━━━━━━━━━━━━━━━━━━━━━━━━━━━━━━━━━━━━━\u001b[0m \u001b[32m49.2/49.2 kB\u001b[0m \u001b[31m2.5 MB/s\u001b[0m eta \u001b[36m0:00:00\u001b[0m\n",
            "\u001b[?25hDownloading mypy_extensions-1.0.0-py3-none-any.whl (4.7 kB)\n",
            "Downloading overrides-7.7.0-py3-none-any.whl (17 kB)\n",
            "Downloading ratelimiter-1.2.0.post0-py3-none-any.whl (6.6 kB)\n",
            "Downloading retry-0.9.2-py2.py3-none-any.whl (8.0 kB)\n",
            "Downloading deprecation-2.1.0-py2.py3-none-any.whl (11 kB)\n",
            "Downloading h11-0.14.0-py3-none-any.whl (58 kB)\n",
            "\u001b[2K   \u001b[90m━━━━━━━━━━━━━━━━━━━━━━━━━━━━━━━━━━━━━━━━\u001b[0m \u001b[32m58.3/58.3 kB\u001b[0m \u001b[31m2.9 MB/s\u001b[0m eta \u001b[36m0:00:00\u001b[0m\n",
            "\u001b[?25hDownloading py-1.11.0-py2.py3-none-any.whl (98 kB)\n",
            "\u001b[2K   \u001b[90m━━━━━━━━━━━━━━━━━━━━━━━━━━━━━━━━━━━━━━━━\u001b[0m \u001b[32m98.7/98.7 kB\u001b[0m \u001b[31m3.4 MB/s\u001b[0m eta \u001b[36m0:00:00\u001b[0m\n",
            "\u001b[?25hInstalling collected packages: striprtf, ratelimiter, dirtyjson, tenacity, tantivy, pypdf, py, overrides, mypy-extensions, marshmallow, jiter, h11, deprecation, deprecated, typing-inspect, tiktoken, retry, pylance, httpcore, lancedb, httpx, dataclasses-json, openai, llama-index-core, llama-parse, llama-index-vector-stores-lancedb, llama-index-readers-file, llama-index-llms-openai, llama-index-embeddings-openai\n",
            "  Attempting uninstall: tenacity\n",
            "    Found existing installation: tenacity 9.0.0\n",
            "    Uninstalling tenacity-9.0.0:\n",
            "      Successfully uninstalled tenacity-9.0.0\n",
            "Successfully installed dataclasses-json-0.6.7 deprecated-1.2.14 deprecation-2.1.0 dirtyjson-1.0.8 h11-0.14.0 httpcore-1.0.5 httpx-0.27.0 jiter-0.5.0 lancedb-0.11.0 llama-index-core-0.10.62 llama-index-embeddings-openai-0.1.11 llama-index-llms-openai-0.1.28 llama-index-readers-file-0.1.32 llama-index-vector-stores-lancedb-0.1.7 llama-parse-0.4.9 marshmallow-3.21.3 mypy-extensions-1.0.0 openai-1.40.0 overrides-7.7.0 py-1.11.0 pylance-0.15.0 pypdf-4.3.1 ratelimiter-1.2.0.post0 retry-0.9.2 striprtf-0.0.26 tantivy-0.22.0 tenacity-8.5.0 tiktoken-0.7.0 typing-inspect-0.9.0\n"
          ]
        }
      ]
    },
    {
      "cell_type": "code",
      "source": [
        "from llama_parse import LlamaParse\n",
        "from llama_index.vector_stores.lancedb import LanceDBVectorStore\n",
        "from llama_index.core.node_parser import SimpleNodeParser\n",
        "from llama_index.embeddings.openai import OpenAIEmbedding\n",
        "from llama_index.core import VectorStoreIndex, StorageContext, SimpleDirectoryReader"
      ],
      "metadata": {
        "id": "yDzQCnA9jBIG"
      },
      "execution_count": 2,
      "outputs": []
    },
    {
      "cell_type": "code",
      "execution_count": 3,
      "metadata": {
        "id": "0h-Xc4eiijyl"
      },
      "outputs": [],
      "source": [
        "import nest_asyncio\n",
        "nest_asyncio.apply()\n",
        "\n",
        "from google.colab import userdata\n",
        "\n",
        "# API access to llama-cloud\n",
        "LLAMA_CLOUD_API_KEY = userdata.get('LLAMACLOUD_KEY')\n",
        "\n",
        "# Using OpenAI API for embeddings/llms\n",
        "OPENAI_API_KEY = userdata.get('KHCC_OPENAI')"
      ]
    },
    {
      "cell_type": "markdown",
      "source": [
        "\n",
        "\n",
        "---\n",
        "\n"
      ],
      "metadata": {
        "id": "ddKD2ZiqI0JA"
      }
    },
    {
      "cell_type": "markdown",
      "source": [
        "Testing the model's ability to parse and retrieve information from a scanned PDF"
      ],
      "metadata": {
        "id": "O_MDArusIrfi"
      }
    },
    {
      "cell_type": "code",
      "source": [
        "parser = LlamaParse(\n",
        "    result_type=\"markdown\",\n",
        "    api_key=LLAMA_CLOUD_API_KEY\n",
        ")\n",
        "\n",
        "file_extractor = {\".pdf\": parser}\n",
        "documents = SimpleDirectoryReader(input_files=['/content/original1.pdf'], file_extractor=file_extractor).load_data()\n",
        "print(documents)"
      ],
      "metadata": {
        "id": "dnTYmW8bjdx3",
        "colab": {
          "base_uri": "https://localhost:8080/"
        },
        "outputId": "1f1d11fc-4c04-4085-8f44-eb675a58541c"
      },
      "execution_count": 7,
      "outputs": [
        {
          "output_type": "stream",
          "name": "stdout",
          "text": [
            "Started parsing the file under job_id b815fbcd-9798-40dc-94a1-ffb88094649a\n",
            "[Document(id_='658bf2da-c994-4457-aab3-55c6cf649d54', embedding=None, metadata={'file_path': '/content/original1.pdf', 'file_name': 'original1.pdf', 'file_type': 'application/pdf', 'file_size': 2205273, 'creation_date': '2024-08-07', 'last_modified_date': '2024-08-07'}, excluded_embed_metadata_keys=['file_name', 'file_type', 'file_size', 'creation_date', 'last_modified_date', 'last_accessed_date'], excluded_llm_metadata_keys=['file_name', 'file_type', 'file_size', 'creation_date', 'last_modified_date', 'last_accessed_date'], relationships={}, text='# King Hussein Cancer Center\\n\\n# Department of Cell Therapy and Applied Genomics\\n\\nQueen Rania Al-Abdullah Str.\\n\\nTel:(962-6)5300460\\n\\nFax:(962-6)5342567\\n\\nP.O.Box 1269 Amman 11941 Jordan\\n\\n# NEXT-GENERATION SEQUENCING (NGS) - MYELOID NEOPLASMS PANEL\\n\\n|PATIENT NAME:|DATE OF BIRTH: (DD MM YYYY)|GENDER:|\\n|---|---|---|\\n|AMEER ATEF ADEL ABBAS|17/07/2016|MALE|\\n|MRN:|LAB No.|ACCESSION No.|\\n|223415|M10201|MDI 1002 75|\\n\\n# SPECIMEN INFORMATION:\\n\\nCLINICAL INDICATION: AML-MO\\n\\nTYPE OF SPECIMEN: PERIPHERAL BLOOD\\n\\nTISSUE ORIGIN:\\n\\nORDERING PHYSICIAN: DR EMAN KHATTAB\\n\\nDATE RECEIVED: 2/10/2022\\n\\nDATE REPORTED: October 16, 2022\\n\\n# Pathogenic Mutations Detected\\n\\nFLT3: ITD\\n\\nNo other pathogenic mutations were detected in the other genes tested in the panel. See below for Variants of Unknown Significance (VUS). Please see the section of \"Full Myeloid Panel by NGS Gene List\" below for the complete list of genes tested.\\n\\n# Variant Details:\\n\\n|Gene|Exon #|Nucleotide Change (HGVSc)|Amino Acid Change (HGVSp)|Alternate Variant Frequency|Read Depth|\\n|---|---|---|---|---|---|\\n|FLT3| |ITD|ITD|7%|11,715|\\n\\nFLT3 is a receptor tyrosine kinase important in hematopoietic cell proliferation and differentiation. In-frame FLT3 internal tandem duplications (ITD) affect exons 14 and 15 in the FLT3 juxtamembrane-tyrosine kinase domain and have been reported in 20-30% of patients with acute myeloid leukemia. FLT3 ITDs usually occur in cases of AML with normal cytogenetics. Individuals with FLT3 mutations are more likely to have AML than MDS, and FLT3 mutations in MDS are associated with poor prognosis.\\n\\nFunctional studies have shown that FLT3 ITDs are ligand-independent gain-of-function mutations. FLT3 ITD and D835 mutations tend to occur in a mutually exclusive manner. Variants at codon N676 and in exon 17 F691 G697 have been associated with resistance to FLT3 targeted therapy.\\n\\nThe presence of FLT3 ITD mutation in young patients with AML and normal cytogenetics is thought to be associated with poor prognosis. Therapeutic targeting of FLT3 in combination with other chemotherapy is available in certain settings for acute myeloid leukemia with FLT3 ITD or TKD mutations.\\n\\nIn T cell acute lymphoblastic leukemia, up to 20% of cases have been reported to show an ETP (early T cell precursor) phenotype. FLT3 mutations have also been reported in up to 15% of B-ALL cases associated with hyperdiploidy and MLL rearrangement. Targeting FLT3 in acute lymphoblastic leukemia therapy may also be possible in some settings.\\n\\n# Variants of Unknown Significance (VUS)\\n\\nNo variants of unknown significance found.\\n\\n# Methodology\\n\\nThe Full Myeloid Panel by Next Generation sequencing (FMPNGS) test utilizes TruSight Myeloid Panel kit from Illumina on the Miseq system. The panel targets mutations with known involvement in acute myeloid leukemia (AML), myelodysplastic syndrome (MDS), myeloproliferative neoplasms (MPN), chronic myelogenous leukemia (CML), chronic myelomonocytic leukemia (CMML), and juvenile myelomonocytic leukemia (JMML).\\n\\nDNA is extracted from the peripheral blood or bone marrow samples followed by library preparation. The library is then subjected to next generation sequencing (NGS) and post-sequencing analysis of tumor-associated mutations. The FMPNGS provides pre-designed oligonucleotide probes for sequencing of mutational hotspots in 141 kilobases (kb) of target genomic DNA.', mimetype='text/plain', start_char_idx=None, end_char_idx=None, text_template='{metadata_str}\\n\\n{content}', metadata_template='{key}: {value}', metadata_seperator='\\n'), Document(id_='a022bd78-62b2-4b0e-a062-4f84a528be7b', embedding=None, metadata={'file_path': '/content/original1.pdf', 'file_name': 'original1.pdf', 'file_type': 'application/pdf', 'file_size': 2205273, 'creation_date': '2024-08-07', 'last_modified_date': '2024-08-07'}, excluded_embed_metadata_keys=['file_name', 'file_type', 'file_size', 'creation_date', 'last_modified_date', 'last_accessed_date'], excluded_llm_metadata_keys=['file_name', 'file_type', 'file_size', 'creation_date', 'last_modified_date', 'last_accessed_date'], relationships={}, text='ABBAS,AMEER ATEF ADEL 2003530345 [KHC] NGS CLIN 10/16/2022\\n\\nAMEER ATEF ADEL ABBASMRV 215 sequences highly multiplexed single-tube reaction; 568 amplicons of 250 bp in length targeting 54 genes are generated. The oligo pool targets 15 provides uniform coverage of the target regions enabling full genes (exons only) plus exonic hotspots Of an additional 39 gene. providing nearly 100%u coverage of all targeled regions. This optimized oligo pool500x coverage for 95%0 of\\' amplicons at 5.000*. The generated reads Were aligned against e thehg1 9 Genome Reference Consortium Human Build GRCh37.\\n\\n# Panel Performance Characteristics:\\n\\nSingle base substitutions: sensitivity 5%0 variant allele fraction with minimum depth coverage of 500X\\n\\nInsertion/deletion events: sensitivity 5\" variant allele fraction with minimum depth coverage of S00X Only small size indels (less than ZSbp) could be detected by this method_Pindel Detection ofFLT3 ITDs where the insertion-size can be Up to 300bp: an extemnal tool (not built-in with Illumina machine) called Pindel is used_ tool (hutps: WWwnebi nlm nihgov/pme arlicles PMC2781750/) has 100\" sensilivily (95\"0 CI 83\"0 to 100\"0) and 100\" specificity in detecting FLT3 ITDs\\n\\nVariants Filtering Criteria:according to the following criteria using VariantStudio sofiware v3 (Illumina) PASS variant call quality Read depth is more than Variants Were filtered 50Ox. Mutation frequency is more than 5\" Variant consequences of missense. frameshifh, stop gained stop lost initiator codon. in-frame inserlion. in-frame deletion. and splice mutations are only considered. Global frequency Thousand Genomes Project) less than 5\"\\n\\n# Gene Regions Assessed by the_TruSight_Myeloid Sequencing Panel\\n\\n|Gene|Target Region (exon)|Gene|Target Region (exon)|Gene|Target Region (exon)|Gene|Target Region (exon)|\\n|---|---|---|---|---|---|---|---|\\n|ABLI|DNMTSA|KDM6A|Iull|RADZI|Iull|ASTLI|ETVVTEL|\\n|KIT|28-11,13,17|RUNTT| |TTRI|EZI|IRAS|23|\\n|SETBPI|(partial)|BCOR| |BCORL|15,20|SMCIA|214,16.17|\\n|SMC3|10.13.19.23.25.28|CALR|226|NaOTCH|26-28,34|SRSF| |\\n|BCOR|578|SRBL|13-16|BRAF| |MYDSS|35|\\n|CBL|89|CBLE|33|PDGFRA|2-44|WTI|26|\\n|CDKNZAACEBPA|(ull|T|(ull|CSFR|314|PTPNI| |\\n|ZRSRZ|fulI|CUXI| |SMC3| |MYDSS|35|\\n\\nFor further details regarding the targeted regions and sequences corresponding to the TruSight Oligos (TSO) provided in the TruSight Myeloid Sequeneing Panel kit please refer TruSight Myeloid manifest file through the following Jink : https; Usupport illumina com/content dam_illumina-support/documents [downloads_ productfiles trusight trusight-myeloid-manifest zip\\n\\n# Clinical Disclaimer:\\n\\nBeeause some regions in the target paneL are not consistently resolved by NGS. additional separate clinieal laboratory assays might be required t0 reach definite diagnosis.\\n\\nSome apparent mutations classified as variants of unknown significance (VUS) may represent rare or low frequency negative (wild type) result does not rule out the presenee of mutation but below the limits of\\' detection of this aSsa5polymorphisms: Rare polymorphisms may be present that could lead to false negative or false positive results\\n\\nFor novel mutations not previously reported. this test cannot differentiate between somatic andgermline alterations. Additional testing may be necessary t0 clarily the significance of results if there is potential hereditary risk\\n\\nAdministered diugs agins[ hematologic malignancies could alfect the: results obtained from this assay. Moreover. plOr allo=g-ncichematopoictie stem cell transplant (HSCT) may cause dilliculties in resolving somatie polymorphie alterations or in assigning variant calls correclly to donor and recipient fractions. if pertinent elinical or laboratory information (eg- chimerism engraliment status) is not provided:and scientifie literature; however clinical significanee may not be completely established for all reported target\\n\\nThis report interpretation based on cutrent medical gene abnormalities identified, findings.\\n\\nTest results should be interpreted in canter of clinical sampling histopathology; and other laboratory data. The presence absence of mutation may not be predietive of response to thcrapy in all patients_ The final interprelation o results for elinieal management of the patient responsibility of the managing physician.\\n\\n# Technical Disclaimer:\\n\\nThe sequeneing coverage depth may vary for some larget regions: but assay performance below the minimum aeeeptable criteria Or for failed regions are noted.\\n\\nAnalysis of rare (low allelefrequency) polymorphisms may some A low tumor cell pereentage in the sample may aflect the true mutation Variant Allele Fraetion (VAF) andor sensitivity . Suboptimal performance of certain target regions (i.e: less than the expected minimum depth of coverage) may affect analytic sensitivity for low prevalence:\\n\\nThis qualitative test: The variant read fractions provided for information only and represent relative proportion of mutated alleles; but do not indicate MC SUTC of analytical sensitivity for the given genes: assay sensitivityTarge insertions delelions (indels) . copy number variations (CNVs) and gene translocations are not detected by thisstated in the method Sumary.\\n\\nSome genetic or genomic alterations. such assay: NGs Working Group: The case WaS reviewed by the NGS work group: Abdelghani Tbakhi, MD:; Mohammad Alqudah; MD:; Ruba Al-Abweh, MD DipRCPath; Osama Alsmadi, PhD; Farah Alul, PhD: Walid Naser; PhD: AAnas Al-okaily PhD.\\n\\n# References:\\n\\n1.My Cancer Genome https [MEmgcancergenome Org COSMIC v83, released 07-NOV-17 http: dcancer sanger aGukIcosmic aMD Anderson Cancer Center-Personalized Cancer Theropy htips: IpELmdanderson orgf Mayo Clinic-Mayo Medical Laboratories hutps;L mayomedicallaboratories comf The National Center forBiotechnology Information https; LMwJ ncbinlmnihgovL Fog MRF267/05-12', mimetype='text/plain', start_char_idx=None, end_char_idx=None, text_template='{metadata_str}\\n\\n{content}', metadata_template='{key}: {value}', metadata_seperator='\\n'), Document(id_='12f27ebe-44fc-413a-a982-3da2207b1d28', embedding=None, metadata={'file_path': '/content/original1.pdf', 'file_name': 'original1.pdf', 'file_type': 'application/pdf', 'file_size': 2205273, 'creation_date': '2024-08-07', 'last_modified_date': '2024-08-07'}, excluded_embed_metadata_keys=['file_name', 'file_type', 'file_size', 'creation_date', 'last_modified_date', 'last_accessed_date'], excluded_llm_metadata_keys=['file_name', 'file_type', 'file_size', 'creation_date', 'last_modified_date', 'last_accessed_date'], relationships={}, text='ABBAS, AMEER ATEF ADEL 2003530345 [KHC] NGS CLIN 10/16/2022\\n\\n--- page 3 of 3 ---\\n\\nAMEER ATEF ADEL ABBASMRV 215\\n\\nApproved and Electronically Signed By:\\n\\nFarah Alul. PhD\\n\\nAbdelghani Tbakhi MD, FCAP\\n\\nAmerican Boards of Pathology (APICP, IP)\\n\\nAbdelshou Tbakk\\n\\nThis assay performed and validated by the Department of Cell Therapy and Applied Genetics, King Hussein Cancer Center, Jordan. The results of this test should be in conjunction with other laboratory and clinical findings. MRF267/05-12\\n\\nPage 3 of 3', mimetype='text/plain', start_char_idx=None, end_char_idx=None, text_template='{metadata_str}\\n\\n{content}', metadata_template='{key}: {value}', metadata_seperator='\\n')]\n"
          ]
        }
      ]
    },
    {
      "cell_type": "code",
      "source": [
        "\n",
        "index = VectorStoreIndex.from_documents(documents)\n",
        "\n",
        "# create a query engine for the index\n",
        "query_engine = index.as_query_engine()\n",
        "\n",
        "# query the engine\n",
        "query = \"What pathogenic mutations are present in this patient?\"\n",
        "response = query_engine.query(query)\n",
        "print(response)"
      ],
      "metadata": {
        "colab": {
          "base_uri": "https://localhost:8080/"
        },
        "id": "F2AR3_xppWXI",
        "outputId": "da176300-18ef-4245-9ae5-5fcb9231e00d"
      },
      "execution_count": 9,
      "outputs": [
        {
          "output_type": "stream",
          "name": "stdout",
          "text": [
            "The pathogenic mutation present in this patient is FLT3 internal tandem duplication (ITD).\n"
          ]
        }
      ]
    },
    {
      "cell_type": "markdown",
      "source": [
        "\n",
        "\n",
        "---\n",
        "\n"
      ],
      "metadata": {
        "id": "oE-2w1A7tpA0"
      }
    },
    {
      "cell_type": "markdown",
      "source": [
        "Testing the model's ability to parse and retrieve information from the same PDF after running it through Tesseracrt OCR"
      ],
      "metadata": {
        "id": "sYorVw-hI_-g"
      }
    },
    {
      "cell_type": "code",
      "source": [
        "document_OCR = SimpleDirectoryReader(input_files=['/content/1.pdf'], file_extractor=file_extractor).load_data()"
      ],
      "metadata": {
        "colab": {
          "base_uri": "https://localhost:8080/"
        },
        "id": "o0EhcBZOtqMa",
        "outputId": "c94bb277-71e3-47d6-8e45-35183f92d871"
      },
      "execution_count": 16,
      "outputs": [
        {
          "output_type": "stream",
          "name": "stdout",
          "text": [
            "Started parsing the file under job_id 3ff32bfa-86b8-408b-9edb-e36171c7efb5\n"
          ]
        }
      ]
    },
    {
      "cell_type": "code",
      "source": [
        "index = VectorStoreIndex.from_documents(document_OCR)\n",
        "\n",
        "# create a query engine for the index\n",
        "query_engine = index.as_query_engine()\n",
        "\n",
        "# query the engine\n",
        "query = \"What pathogenic mutations are present in this patient?\"\n",
        "response = query_engine.query(query)\n",
        "print(response)"
      ],
      "metadata": {
        "colab": {
          "base_uri": "https://localhost:8080/"
        },
        "id": "GTPhR3oItu29",
        "outputId": "b68ffd35-e094-4f18-cc77-91ec1ff7c39a"
      },
      "execution_count": 17,
      "outputs": [
        {
          "output_type": "stream",
          "name": "stdout",
          "text": [
            "No pathogenic mutations were identified in this patient based on the provided context information.\n"
          ]
        }
      ]
    },
    {
      "cell_type": "markdown",
      "source": [
        "Another document that has been ran through an OCR"
      ],
      "metadata": {
        "id": "pF4CEQB6JIWy"
      }
    },
    {
      "cell_type": "code",
      "source": [
        "document_OCR = SimpleDirectoryReader(input_files=['/content/3.pdf'], file_extractor=file_extractor).load_data()"
      ],
      "metadata": {
        "colab": {
          "base_uri": "https://localhost:8080/"
        },
        "id": "ccAmDSgisjwn",
        "outputId": "08b63883-30ca-41c6-de8a-9ae54dfc7888"
      },
      "execution_count": 18,
      "outputs": [
        {
          "output_type": "stream",
          "name": "stdout",
          "text": [
            "Started parsing the file under job_id d3d87ba4-75e6-4d20-bf68-573f8053e992\n"
          ]
        }
      ]
    },
    {
      "cell_type": "code",
      "source": [
        "index = VectorStoreIndex.from_documents(document_OCR)\n",
        "\n",
        "# create a query engine for the index\n",
        "query_engine = index.as_query_engine()\n",
        "\n",
        "# query the engine\n",
        "query = \"What pathogenic mutations are present in this patient?\"\n",
        "response = query_engine.query(query)\n",
        "print(response)"
      ],
      "metadata": {
        "colab": {
          "base_uri": "https://localhost:8080/"
        },
        "id": "z0IYCV4DsuTI",
        "outputId": "4c7d56ae-df19-498e-fffc-eb7135523a99"
      },
      "execution_count": 19,
      "outputs": [
        {
          "output_type": "stream",
          "name": "stdout",
          "text": [
            "The presence of pathogenic mutations in this patient cannot be definitively determined based on the information provided.\n"
          ]
        }
      ]
    }
  ]
}