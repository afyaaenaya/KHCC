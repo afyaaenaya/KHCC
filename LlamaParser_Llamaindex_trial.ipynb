{
  "nbformat": 4,
  "nbformat_minor": 0,
  "metadata": {
    "colab": {
      "provenance": [],
      "authorship_tag": "ABX9TyNxyFMxRldjogqEBLYEmQac",
      "include_colab_link": true
    },
    "kernelspec": {
      "name": "python3",
      "display_name": "Python 3"
    },
    "language_info": {
      "name": "python"
    }
  },
  "cells": [
    {
      "cell_type": "markdown",
      "metadata": {
        "id": "view-in-github",
        "colab_type": "text"
      },
      "source": [
        "<a href=\"https://colab.research.google.com/github/afyaaenaya/KHCC/blob/main/LlamaParser_Llamaindex_trial.ipynb\" target=\"_parent\"><img src=\"https://colab.research.google.com/assets/colab-badge.svg\" alt=\"Open In Colab\"/></a>"
      ]
    },
    {
      "cell_type": "code",
      "source": [
        "pip install llama-index-core llama-parse llama-index-readers-file llama-index-vector-stores-lancedb llama-index-llms-openai llama-index-embeddings-openai"
      ],
      "metadata": {
        "id": "DxBWPGJUkWVi",
        "collapsed": true
      },
      "execution_count": null,
      "outputs": []
    },
    {
      "cell_type": "code",
      "source": [
        "from llama_parse import LlamaParse\n",
        "from llama_index.vector_stores.lancedb import LanceDBVectorStore\n",
        "from llama_index.core.node_parser import SimpleNodeParser\n",
        "from llama_index.core import VectorStoreIndex, StorageContext, SimpleDirectoryReader\n",
        "from llama_index.llms.openai import OpenAI"
      ],
      "metadata": {
        "id": "yDzQCnA9jBIG"
      },
      "execution_count": 2,
      "outputs": []
    },
    {
      "cell_type": "code",
      "execution_count": 3,
      "metadata": {
        "id": "0h-Xc4eiijyl"
      },
      "outputs": [],
      "source": [
        "import nest_asyncio\n",
        "nest_asyncio.apply()\n",
        "\n",
        "from google.colab import userdata\n",
        "\n",
        "# API access to llama-cloud\n",
        "LLAMA_CLOUD_API_KEY = userdata.get('LLAMACLOUD_KEY')\n",
        "\n",
        "# Using OpenAI API for embeddings/llms\n",
        "OPENAI_API_KEY = userdata.get('KHCC_OPENAI')"
      ]
    },
    {
      "cell_type": "code",
      "source": [
        "parser = LlamaParse(\n",
        "    result_type=\"markdown\",\n",
        "    api_key=LLAMA_CLOUD_API_KEY\n",
        ")\n",
        "\n",
        "openai.api_key = OPENAI_API_KEY\n",
        "\n",
        "file_extractor = {\".pdf\": parser}"
      ],
      "metadata": {
        "id": "6g7ANBqAPmJF"
      },
      "execution_count": 19,
      "outputs": []
    },
    {
      "cell_type": "markdown",
      "source": [
        "\n",
        "\n",
        "---\n",
        "\n"
      ],
      "metadata": {
        "id": "ddKD2ZiqI0JA"
      }
    },
    {
      "cell_type": "markdown",
      "source": [
        "Testing the model's ability to parse and retrieve information from a scanned PDF"
      ],
      "metadata": {
        "id": "O_MDArusIrfi"
      }
    },
    {
      "cell_type": "code",
      "source": [
        "documents = SimpleDirectoryReader(input_files=['/content/original1.pdf'], file_extractor=file_extractor).load_data()"
      ],
      "metadata": {
        "id": "dnTYmW8bjdx3",
        "colab": {
          "base_uri": "https://localhost:8080/"
        },
        "outputId": "9236a64f-f4d1-4182-dbc4-fb399935d4d9"
      },
      "execution_count": 22,
      "outputs": [
        {
          "output_type": "stream",
          "name": "stdout",
          "text": [
            "Started parsing the file under job_id 56d8d108-8ce0-4dc7-9830-17959064e1f0\n"
          ]
        }
      ]
    },
    {
      "cell_type": "code",
      "source": [
        "index = VectorStoreIndex.from_documents(documents)\n",
        "\n",
        "# create a query engine for the index\n",
        "query_engine = index.as_query_engine()\n",
        "\n",
        "# query the engine\n",
        "query = \"What pathogenic mutations are present in this patient?\"\n",
        "response = query_engine.query(query)\n",
        "print(response)"
      ],
      "metadata": {
        "colab": {
          "base_uri": "https://localhost:8080/"
        },
        "id": "F2AR3_xppWXI",
        "outputId": "a4f43a64-2dd5-4720-93f9-0d8886813b76"
      },
      "execution_count": 21,
      "outputs": [
        {
          "output_type": "stream",
          "name": "stdout",
          "text": [
            "The pathogenic mutation present in this patient is FLT3 internal tandem duplication (ITD).\n"
          ]
        }
      ]
    },
    {
      "cell_type": "markdown",
      "source": [
        "\n",
        "\n",
        "---\n",
        "\n"
      ],
      "metadata": {
        "id": "oE-2w1A7tpA0"
      }
    },
    {
      "cell_type": "markdown",
      "source": [
        "Testing the model's ability to parse and retrieve information from the same PDF after running it through Tesseracrt OCR"
      ],
      "metadata": {
        "id": "sYorVw-hI_-g"
      }
    },
    {
      "cell_type": "code",
      "source": [
        "document_OCR = SimpleDirectoryReader(input_files=['/content/1.pdf'], file_extractor=file_extractor).load_data()"
      ],
      "metadata": {
        "id": "o0EhcBZOtqMa",
        "colab": {
          "base_uri": "https://localhost:8080/"
        },
        "outputId": "3e824ddb-dbf8-467f-d515-674520366b69"
      },
      "execution_count": null,
      "outputs": [
        {
          "output_type": "stream",
          "name": "stdout",
          "text": [
            "Started parsing the file under job_id 69df4a9b-8329-4aca-a333-1561e1e8e29c\n",
            "..."
          ]
        }
      ]
    },
    {
      "cell_type": "code",
      "source": [
        "index = VectorStoreIndex.from_documents(document_OCR)\n",
        "\n",
        "# create a query engine for the index\n",
        "query_engine = index.as_query_engine()\n",
        "\n",
        "# query the engine\n",
        "query = \"What pathogenic mutations are present in this patient?\"\n",
        "response = query_engine.query(query)\n",
        "print(response)"
      ],
      "metadata": {
        "id": "GTPhR3oItu29"
      },
      "execution_count": null,
      "outputs": []
    },
    {
      "cell_type": "markdown",
      "source": [
        "Another document that has been ran through an OCR"
      ],
      "metadata": {
        "id": "pF4CEQB6JIWy"
      }
    },
    {
      "cell_type": "code",
      "source": [
        "document_OCR = SimpleDirectoryReader(input_files=['/content/3.pdf'], file_extractor=file_extractor).load_data()"
      ],
      "metadata": {
        "id": "ccAmDSgisjwn"
      },
      "execution_count": null,
      "outputs": []
    },
    {
      "cell_type": "code",
      "source": [
        "index = VectorStoreIndex.from_documents(document_OCR)\n",
        "\n",
        "# create a query engine for the index\n",
        "query_engine = index.as_query_engine()\n",
        "\n",
        "# query the engine\n",
        "query = \"What pathogenic mutations are present in this patient?\"\n",
        "response = query_engine.query(query)\n",
        "print(response)"
      ],
      "metadata": {
        "id": "z0IYCV4DsuTI"
      },
      "execution_count": null,
      "outputs": []
    }
  ]
}